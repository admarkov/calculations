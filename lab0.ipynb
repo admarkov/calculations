{
 "cells": [
  {
   "cell_type": "markdown",
   "metadata": {},
   "source": [
    "# Численное решение задачи Коши.\n",
    "## Вариант 6"
   ]
  },
  {
   "cell_type": "code",
   "execution_count": 44,
   "metadata": {},
   "outputs": [],
   "source": [
    "import numpy as np\n",
    "from pandas import DataFrame as df\n",
    "from scipy.integrate import odeint\n",
    "import matplotlib.pyplot as pyplot"
   ]
  },
  {
   "cell_type": "code",
   "execution_count": 45,
   "metadata": {},
   "outputs": [],
   "source": [
    "def F(y, x):\n",
    "    return 1 + (0.5 - x) * np.sin(y) - (1 + x) * y"
   ]
  },
  {
   "cell_type": "code",
   "execution_count": 46,
   "metadata": {},
   "outputs": [],
   "source": [
    "x0 = 0\n",
    "y0 = 0\n",
    "h = 0.1\n",
    "x = np.arange(0, 1.1, h)"
   ]
  },
  {
   "cell_type": "markdown",
   "metadata": {},
   "source": [
    "### 1) Получить таблицу значений решения задачи c шагом h = 0.1 на [0, 1], используя функции математического пакета — y_math"
   ]
  },
  {
   "cell_type": "markdown",
   "metadata": {},
   "source": [
    "Значения, полученные через Maple:"
   ]
  },
  {
   "cell_type": "code",
   "execution_count": 47,
   "metadata": {},
   "outputs": [],
   "source": [
    "y_math = [\n",
    "    0.,\n",
    "    0.09689591666531316,\n",
    "    0.18537379054306496,\n",
    "    0.2626922824598868,\n",
    "    0.32700405846377045,\n",
    "    0.3774127936306311,\n",
    "    0.41391770899526215,\n",
    "    0.4372770993279668,\n",
    "    0.4488262387668105, \n",
    "    0.45028158229670845,\n",
    "    0.4435535458362077\n",
    "]"
   ]
  },
  {
   "cell_type": "code",
   "execution_count": 48,
   "metadata": {},
   "outputs": [
    {
     "data": {
      "text/html": [
       "<style  type=\"text/css\" >\n",
       "</style><table id=\"T_f5f996bb_880b_11ea_b901_a0a4c50e5e33\" ><thead>    <tr>        <th class=\"col_heading level0 col0\" >$x$</th>        <th class=\"col_heading level0 col1\" >$y_{math}$</th>    </tr></thead><tbody>\n",
       "                <tr>\n",
       "                                <td id=\"T_f5f996bb_880b_11ea_b901_a0a4c50e5e33row0_col0\" class=\"data row0 col0\" >0.000000</td>\n",
       "                        <td id=\"T_f5f996bb_880b_11ea_b901_a0a4c50e5e33row0_col1\" class=\"data row0 col1\" >0.000000</td>\n",
       "            </tr>\n",
       "            <tr>\n",
       "                                <td id=\"T_f5f996bb_880b_11ea_b901_a0a4c50e5e33row1_col0\" class=\"data row1 col0\" >0.100000</td>\n",
       "                        <td id=\"T_f5f996bb_880b_11ea_b901_a0a4c50e5e33row1_col1\" class=\"data row1 col1\" >0.096896</td>\n",
       "            </tr>\n",
       "            <tr>\n",
       "                                <td id=\"T_f5f996bb_880b_11ea_b901_a0a4c50e5e33row2_col0\" class=\"data row2 col0\" >0.200000</td>\n",
       "                        <td id=\"T_f5f996bb_880b_11ea_b901_a0a4c50e5e33row2_col1\" class=\"data row2 col1\" >0.185374</td>\n",
       "            </tr>\n",
       "            <tr>\n",
       "                                <td id=\"T_f5f996bb_880b_11ea_b901_a0a4c50e5e33row3_col0\" class=\"data row3 col0\" >0.300000</td>\n",
       "                        <td id=\"T_f5f996bb_880b_11ea_b901_a0a4c50e5e33row3_col1\" class=\"data row3 col1\" >0.262692</td>\n",
       "            </tr>\n",
       "            <tr>\n",
       "                                <td id=\"T_f5f996bb_880b_11ea_b901_a0a4c50e5e33row4_col0\" class=\"data row4 col0\" >0.400000</td>\n",
       "                        <td id=\"T_f5f996bb_880b_11ea_b901_a0a4c50e5e33row4_col1\" class=\"data row4 col1\" >0.327004</td>\n",
       "            </tr>\n",
       "            <tr>\n",
       "                                <td id=\"T_f5f996bb_880b_11ea_b901_a0a4c50e5e33row5_col0\" class=\"data row5 col0\" >0.500000</td>\n",
       "                        <td id=\"T_f5f996bb_880b_11ea_b901_a0a4c50e5e33row5_col1\" class=\"data row5 col1\" >0.377413</td>\n",
       "            </tr>\n",
       "            <tr>\n",
       "                                <td id=\"T_f5f996bb_880b_11ea_b901_a0a4c50e5e33row6_col0\" class=\"data row6 col0\" >0.600000</td>\n",
       "                        <td id=\"T_f5f996bb_880b_11ea_b901_a0a4c50e5e33row6_col1\" class=\"data row6 col1\" >0.413918</td>\n",
       "            </tr>\n",
       "            <tr>\n",
       "                                <td id=\"T_f5f996bb_880b_11ea_b901_a0a4c50e5e33row7_col0\" class=\"data row7 col0\" >0.700000</td>\n",
       "                        <td id=\"T_f5f996bb_880b_11ea_b901_a0a4c50e5e33row7_col1\" class=\"data row7 col1\" >0.437277</td>\n",
       "            </tr>\n",
       "            <tr>\n",
       "                                <td id=\"T_f5f996bb_880b_11ea_b901_a0a4c50e5e33row8_col0\" class=\"data row8 col0\" >0.800000</td>\n",
       "                        <td id=\"T_f5f996bb_880b_11ea_b901_a0a4c50e5e33row8_col1\" class=\"data row8 col1\" >0.448826</td>\n",
       "            </tr>\n",
       "            <tr>\n",
       "                                <td id=\"T_f5f996bb_880b_11ea_b901_a0a4c50e5e33row9_col0\" class=\"data row9 col0\" >0.900000</td>\n",
       "                        <td id=\"T_f5f996bb_880b_11ea_b901_a0a4c50e5e33row9_col1\" class=\"data row9 col1\" >0.450282</td>\n",
       "            </tr>\n",
       "            <tr>\n",
       "                                <td id=\"T_f5f996bb_880b_11ea_b901_a0a4c50e5e33row10_col0\" class=\"data row10 col0\" >1.000000</td>\n",
       "                        <td id=\"T_f5f996bb_880b_11ea_b901_a0a4c50e5e33row10_col1\" class=\"data row10 col1\" >0.443554</td>\n",
       "            </tr>\n",
       "    </tbody></table>"
      ],
      "text/plain": [
       "<pandas.io.formats.style.Styler at 0x24ffa6f0b80>"
      ]
     },
     "execution_count": 48,
     "metadata": {},
     "output_type": "execute_result"
    }
   ],
   "source": [
    "d = {'$x$': x, '$y_{math}$': y_math}\n",
    "table = df(data=d)\n",
    "table.style.hide_index()"
   ]
  },
  {
   "cell_type": "markdown",
   "metadata": {},
   "source": [
    "### 2) Методом Эйлера получить таблицу решения на [0, 0.5]"
   ]
  },
  {
   "cell_type": "code",
   "execution_count": 49,
   "metadata": {},
   "outputs": [],
   "source": [
    "def euler(x, h):\n",
    "    y = x * 0\n",
    "    # y[0] известно из задачи Коши --- y(0) = 0;\n",
    "    for m in range(0, len(x) - 1):\n",
    "        yy = y[m] + h * F(x[m], y[m])\n",
    "        y[m + 1] = y[m] + h / 2. * (F(x[m], y[m]) + F(x[m+1], yy))\n",
    "    return y"
   ]
  },
  {
   "cell_type": "markdown",
   "metadata": {},
   "source": [
    "#### C шагом h - $y_h$"
   ]
  },
  {
   "cell_type": "code",
   "execution_count": 50,
   "metadata": {},
   "outputs": [],
   "source": [
    "xh = np.arange(0, 1. + h, h)\n",
    "yh = euler(xh, h)"
   ]
  },
  {
   "cell_type": "markdown",
   "metadata": {},
   "source": [
    "#### C шагом h/2 - $y_{h/2}$"
   ]
  },
  {
   "cell_type": "code",
   "execution_count": 51,
   "metadata": {},
   "outputs": [],
   "source": [
    "xh2 = np.arange(0, 1. + h/2, h/2)\n",
    "yh2 = euler(xh2, h/2)"
   ]
  },
  {
   "cell_type": "markdown",
   "metadata": {},
   "source": [
    "#### Уточнить решение по Ричардсону - $y_{rev}$"
   ]
  },
  {
   "cell_type": "code",
   "execution_count": 52,
   "metadata": {},
   "outputs": [],
   "source": [
    "# s = 2\n",
    "y_rev = yh\n",
    "R = yh\n",
    "for m in range(len(x)):\n",
    "    R[m] = (yh2[2 * m] - yh[m]) / 3\n",
    "    y_rev[m] = yh2[2 * m] + R[m]"
   ]
  },
  {
   "cell_type": "markdown",
   "metadata": {},
   "source": [
    "### 3) Напечатать таблицу значений y_math, y h , y h/2 , y_rev, y_rev − y_math в точках с шагом h."
   ]
  },
  {
   "cell_type": "code",
   "execution_count": 53,
   "metadata": {},
   "outputs": [
    {
     "data": {
      "text/html": [
       "<style  type=\"text/css\" >\n",
       "</style><table id=\"T_f6eb6bd0_880b_11ea_a87f_a0a4c50e5e33\" ><thead>    <tr>        <th class=\"col_heading level0 col0\" >$x$</th>        <th class=\"col_heading level0 col1\" >$y_{math}$</th>        <th class=\"col_heading level0 col2\" >$y_{h}$</th>        <th class=\"col_heading level0 col3\" >$y_{h/2}$</th>        <th class=\"col_heading level0 col4\" >$y_{rev}$</th>        <th class=\"col_heading level0 col5\" >$y_{rev} - y_{math}$</th>    </tr></thead><tbody>\n",
       "                <tr>\n",
       "                                <td id=\"T_f6eb6bd0_880b_11ea_a87f_a0a4c50e5e33row0_col0\" class=\"data row0 col0\" >0.000000</td>\n",
       "                        <td id=\"T_f6eb6bd0_880b_11ea_a87f_a0a4c50e5e33row0_col1\" class=\"data row0 col1\" >0.000000</td>\n",
       "                        <td id=\"T_f6eb6bd0_880b_11ea_a87f_a0a4c50e5e33row0_col2\" class=\"data row0 col2\" >0.000000</td>\n",
       "                        <td id=\"T_f6eb6bd0_880b_11ea_a87f_a0a4c50e5e33row0_col3\" class=\"data row0 col3\" >0.000000</td>\n",
       "                        <td id=\"T_f6eb6bd0_880b_11ea_a87f_a0a4c50e5e33row0_col4\" class=\"data row0 col4\" >0.000000</td>\n",
       "                        <td id=\"T_f6eb6bd0_880b_11ea_a87f_a0a4c50e5e33row0_col5\" class=\"data row0 col5\" >0.000000</td>\n",
       "            </tr>\n",
       "            <tr>\n",
       "                                <td id=\"T_f6eb6bd0_880b_11ea_a87f_a0a4c50e5e33row1_col0\" class=\"data row1 col0\" >0.100000</td>\n",
       "                        <td id=\"T_f6eb6bd0_880b_11ea_a87f_a0a4c50e5e33row1_col1\" class=\"data row1 col1\" >0.096896</td>\n",
       "                        <td id=\"T_f6eb6bd0_880b_11ea_a87f_a0a4c50e5e33row1_col2\" class=\"data row1 col2\" >0.096849</td>\n",
       "                        <td id=\"T_f6eb6bd0_880b_11ea_a87f_a0a4c50e5e33row1_col3\" class=\"data row1 col3\" >0.096761</td>\n",
       "                        <td id=\"T_f6eb6bd0_880b_11ea_a87f_a0a4c50e5e33row1_col4\" class=\"data row1 col4\" >0.096849</td>\n",
       "                        <td id=\"T_f6eb6bd0_880b_11ea_a87f_a0a4c50e5e33row1_col5\" class=\"data row1 col5\" >-0.000047</td>\n",
       "            </tr>\n",
       "            <tr>\n",
       "                                <td id=\"T_f6eb6bd0_880b_11ea_a87f_a0a4c50e5e33row2_col0\" class=\"data row2 col0\" >0.200000</td>\n",
       "                        <td id=\"T_f6eb6bd0_880b_11ea_a87f_a0a4c50e5e33row2_col1\" class=\"data row2 col1\" >0.185374</td>\n",
       "                        <td id=\"T_f6eb6bd0_880b_11ea_a87f_a0a4c50e5e33row2_col2\" class=\"data row2 col2\" >0.184932</td>\n",
       "                        <td id=\"T_f6eb6bd0_880b_11ea_a87f_a0a4c50e5e33row2_col3\" class=\"data row2 col3\" >0.184753</td>\n",
       "                        <td id=\"T_f6eb6bd0_880b_11ea_a87f_a0a4c50e5e33row2_col4\" class=\"data row2 col4\" >0.184932</td>\n",
       "                        <td id=\"T_f6eb6bd0_880b_11ea_a87f_a0a4c50e5e33row2_col5\" class=\"data row2 col5\" >-0.000442</td>\n",
       "            </tr>\n",
       "            <tr>\n",
       "                                <td id=\"T_f6eb6bd0_880b_11ea_a87f_a0a4c50e5e33row3_col0\" class=\"data row3 col0\" >0.300000</td>\n",
       "                        <td id=\"T_f6eb6bd0_880b_11ea_a87f_a0a4c50e5e33row3_col1\" class=\"data row3 col1\" >0.262692</td>\n",
       "                        <td id=\"T_f6eb6bd0_880b_11ea_a87f_a0a4c50e5e33row3_col2\" class=\"data row3 col2\" >0.261034</td>\n",
       "                        <td id=\"T_f6eb6bd0_880b_11ea_a87f_a0a4c50e5e33row3_col3\" class=\"data row3 col3\" >0.260764</td>\n",
       "                        <td id=\"T_f6eb6bd0_880b_11ea_a87f_a0a4c50e5e33row3_col4\" class=\"data row3 col4\" >0.261034</td>\n",
       "                        <td id=\"T_f6eb6bd0_880b_11ea_a87f_a0a4c50e5e33row3_col5\" class=\"data row3 col5\" >-0.001659</td>\n",
       "            </tr>\n",
       "            <tr>\n",
       "                                <td id=\"T_f6eb6bd0_880b_11ea_a87f_a0a4c50e5e33row4_col0\" class=\"data row4 col0\" >0.400000</td>\n",
       "                        <td id=\"T_f6eb6bd0_880b_11ea_a87f_a0a4c50e5e33row4_col1\" class=\"data row4 col1\" >0.327004</td>\n",
       "                        <td id=\"T_f6eb6bd0_880b_11ea_a87f_a0a4c50e5e33row4_col2\" class=\"data row4 col2\" >0.322770</td>\n",
       "                        <td id=\"T_f6eb6bd0_880b_11ea_a87f_a0a4c50e5e33row4_col3\" class=\"data row4 col3\" >0.322413</td>\n",
       "                        <td id=\"T_f6eb6bd0_880b_11ea_a87f_a0a4c50e5e33row4_col4\" class=\"data row4 col4\" >0.322770</td>\n",
       "                        <td id=\"T_f6eb6bd0_880b_11ea_a87f_a0a4c50e5e33row4_col5\" class=\"data row4 col5\" >-0.004234</td>\n",
       "            </tr>\n",
       "            <tr>\n",
       "                                <td id=\"T_f6eb6bd0_880b_11ea_a87f_a0a4c50e5e33row5_col0\" class=\"data row5 col0\" >0.500000</td>\n",
       "                        <td id=\"T_f6eb6bd0_880b_11ea_a87f_a0a4c50e5e33row5_col1\" class=\"data row5 col1\" >0.377413</td>\n",
       "                        <td id=\"T_f6eb6bd0_880b_11ea_a87f_a0a4c50e5e33row5_col2\" class=\"data row5 col2\" >0.368735</td>\n",
       "                        <td id=\"T_f6eb6bd0_880b_11ea_a87f_a0a4c50e5e33row5_col3\" class=\"data row5 col3\" >0.368300</td>\n",
       "                        <td id=\"T_f6eb6bd0_880b_11ea_a87f_a0a4c50e5e33row5_col4\" class=\"data row5 col4\" >0.368735</td>\n",
       "                        <td id=\"T_f6eb6bd0_880b_11ea_a87f_a0a4c50e5e33row5_col5\" class=\"data row5 col5\" >-0.008678</td>\n",
       "            </tr>\n",
       "            <tr>\n",
       "                                <td id=\"T_f6eb6bd0_880b_11ea_a87f_a0a4c50e5e33row6_col0\" class=\"data row6 col0\" >0.600000</td>\n",
       "                        <td id=\"T_f6eb6bd0_880b_11ea_a87f_a0a4c50e5e33row6_col1\" class=\"data row6 col1\" >0.413918</td>\n",
       "                        <td id=\"T_f6eb6bd0_880b_11ea_a87f_a0a4c50e5e33row6_col2\" class=\"data row6 col2\" >0.398536</td>\n",
       "                        <td id=\"T_f6eb6bd0_880b_11ea_a87f_a0a4c50e5e33row6_col3\" class=\"data row6 col3\" >0.398037</td>\n",
       "                        <td id=\"T_f6eb6bd0_880b_11ea_a87f_a0a4c50e5e33row6_col4\" class=\"data row6 col4\" >0.398536</td>\n",
       "                        <td id=\"T_f6eb6bd0_880b_11ea_a87f_a0a4c50e5e33row6_col5\" class=\"data row6 col5\" >-0.015381</td>\n",
       "            </tr>\n",
       "            <tr>\n",
       "                                <td id=\"T_f6eb6bd0_880b_11ea_a87f_a0a4c50e5e33row7_col0\" class=\"data row7 col0\" >0.700000</td>\n",
       "                        <td id=\"T_f6eb6bd0_880b_11ea_a87f_a0a4c50e5e33row7_col1\" class=\"data row7 col1\" >0.437277</td>\n",
       "                        <td id=\"T_f6eb6bd0_880b_11ea_a87f_a0a4c50e5e33row7_col2\" class=\"data row7 col2\" >0.412713</td>\n",
       "                        <td id=\"T_f6eb6bd0_880b_11ea_a87f_a0a4c50e5e33row7_col3\" class=\"data row7 col3\" >0.412168</td>\n",
       "                        <td id=\"T_f6eb6bd0_880b_11ea_a87f_a0a4c50e5e33row7_col4\" class=\"data row7 col4\" >0.412713</td>\n",
       "                        <td id=\"T_f6eb6bd0_880b_11ea_a87f_a0a4c50e5e33row7_col5\" class=\"data row7 col5\" >-0.024565</td>\n",
       "            </tr>\n",
       "            <tr>\n",
       "                                <td id=\"T_f6eb6bd0_880b_11ea_a87f_a0a4c50e5e33row8_col0\" class=\"data row8 col0\" >0.800000</td>\n",
       "                        <td id=\"T_f6eb6bd0_880b_11ea_a87f_a0a4c50e5e33row8_col1\" class=\"data row8 col1\" >0.448826</td>\n",
       "                        <td id=\"T_f6eb6bd0_880b_11ea_a87f_a0a4c50e5e33row8_col2\" class=\"data row8 col2\" >0.412569</td>\n",
       "                        <td id=\"T_f6eb6bd0_880b_11ea_a87f_a0a4c50e5e33row8_col3\" class=\"data row8 col3\" >0.412002</td>\n",
       "                        <td id=\"T_f6eb6bd0_880b_11ea_a87f_a0a4c50e5e33row8_col4\" class=\"data row8 col4\" >0.412569</td>\n",
       "                        <td id=\"T_f6eb6bd0_880b_11ea_a87f_a0a4c50e5e33row8_col5\" class=\"data row8 col5\" >-0.036258</td>\n",
       "            </tr>\n",
       "            <tr>\n",
       "                                <td id=\"T_f6eb6bd0_880b_11ea_a87f_a0a4c50e5e33row9_col0\" class=\"data row9 col0\" >0.900000</td>\n",
       "                        <td id=\"T_f6eb6bd0_880b_11ea_a87f_a0a4c50e5e33row9_col1\" class=\"data row9 col1\" >0.450282</td>\n",
       "                        <td id=\"T_f6eb6bd0_880b_11ea_a87f_a0a4c50e5e33row9_col2\" class=\"data row9 col2\" >0.399953</td>\n",
       "                        <td id=\"T_f6eb6bd0_880b_11ea_a87f_a0a4c50e5e33row9_col3\" class=\"data row9 col3\" >0.399388</td>\n",
       "                        <td id=\"T_f6eb6bd0_880b_11ea_a87f_a0a4c50e5e33row9_col4\" class=\"data row9 col4\" >0.399953</td>\n",
       "                        <td id=\"T_f6eb6bd0_880b_11ea_a87f_a0a4c50e5e33row9_col5\" class=\"data row9 col5\" >-0.050329</td>\n",
       "            </tr>\n",
       "            <tr>\n",
       "                                <td id=\"T_f6eb6bd0_880b_11ea_a87f_a0a4c50e5e33row10_col0\" class=\"data row10 col0\" >1.000000</td>\n",
       "                        <td id=\"T_f6eb6bd0_880b_11ea_a87f_a0a4c50e5e33row10_col1\" class=\"data row10 col1\" >0.443554</td>\n",
       "                        <td id=\"T_f6eb6bd0_880b_11ea_a87f_a0a4c50e5e33row10_col2\" class=\"data row10 col2\" >0.377020</td>\n",
       "                        <td id=\"T_f6eb6bd0_880b_11ea_a87f_a0a4c50e5e33row10_col3\" class=\"data row10 col3\" >0.376480</td>\n",
       "                        <td id=\"T_f6eb6bd0_880b_11ea_a87f_a0a4c50e5e33row10_col4\" class=\"data row10 col4\" >0.377020</td>\n",
       "                        <td id=\"T_f6eb6bd0_880b_11ea_a87f_a0a4c50e5e33row10_col5\" class=\"data row10 col5\" >-0.066534</td>\n",
       "            </tr>\n",
       "    </tbody></table>"
      ],
      "text/plain": [
       "<pandas.io.formats.style.Styler at 0x24ff96fa250>"
      ]
     },
     "execution_count": 53,
     "metadata": {},
     "output_type": "execute_result"
    }
   ],
   "source": [
    "d = {'$x$': x,\n",
    "     '$y_{math}$': y_math,\n",
    "     '$y_{h}$': yh,\n",
    "     '$y_{h/2}$': yh2[0:len(yh2):2],\n",
    "     '$y_{rev}$': y_rev,\n",
    "     '$y_{rev} - y_{math}$': y_rev - y_math}\n",
    "table = df(data=d)\n",
    "table.style.hide_index()"
   ]
  },
  {
   "cell_type": "markdown",
   "metadata": {},
   "source": [
    "### 4) Построить графики заданных таблично функций в одних осях координат."
   ]
  },
  {
   "cell_type": "code",
   "execution_count": 55,
   "metadata": {},
   "outputs": [
    {
     "data": {
      "image/png": "[encoded data removed]",
      "text/plain": [
       "<Figure size 432x288 with 1 Axes>"
      ]
     },
     "metadata": {
      "needs_background": "light"
     },
     "output_type": "display_data"
    }
   ],
   "source": [
    "pyplot.plot(x, y_math)\n",
    "pyplot.plot(x, y_rev)\n",
    "pyplot.plot(x, abs(y_rev - y_math))\n",
    "\n",
    "pyplot.legend(('$y_{math}$', '$y_{rev}$', '$|y_{rev} - y_{math}|$'))\n",
    "\n",
    "pyplot.show()"
   ]
  },
  {
   "cell_type": "markdown",
   "metadata": {},
   "source": [
    "### 5) Вычислить решение методом Рунге-Кутты 4-ого порядка"
   ]
  },
  {
   "cell_type": "code",
   "execution_count": 56,
   "metadata": {},
   "outputs": [],
   "source": [
    "y_rk = x * 0\n",
    "for m in range(len(x) - 1):\n",
    "    k1 = h * F(x[m], y_rk[m])\n",
    "    k2 = h * F(x[m] + h/2, y_rk[m] + k1/2)\n",
    "    k3 = h * F(x[m] + h/2, y_rk[m] + k2/2)\n",
    "    k4 = h * F(x[m] + h, y_rk[m] + k3)\n",
    "    y_rk[m+1] = y_rk[m] + (k1 + 2 * k2 + 2 * k3 + k4) / 6;"
   ]
  },
  {
   "cell_type": "code",
   "execution_count": 57,
   "metadata": {},
   "outputs": [
    {
     "data": {
      "text/html": [
       "<style  type=\"text/css\" >\n",
       "</style><table id=\"T_f761b5b2_880b_11ea_a840_a0a4c50e5e33\" ><thead>    <tr>        <th class=\"col_heading level0 col0\" >$x$</th>        <th class=\"col_heading level0 col1\" >$y_{RK}$</th>    </tr></thead><tbody>\n",
       "                <tr>\n",
       "                                <td id=\"T_f761b5b2_880b_11ea_a840_a0a4c50e5e33row0_col0\" class=\"data row0 col0\" >0.000000</td>\n",
       "                        <td id=\"T_f761b5b2_880b_11ea_a840_a0a4c50e5e33row0_col1\" class=\"data row0 col1\" >0.000000</td>\n",
       "            </tr>\n",
       "            <tr>\n",
       "                                <td id=\"T_f761b5b2_880b_11ea_a840_a0a4c50e5e33row1_col0\" class=\"data row1 col0\" >0.100000</td>\n",
       "                        <td id=\"T_f761b5b2_880b_11ea_a840_a0a4c50e5e33row1_col1\" class=\"data row1 col1\" >0.096847</td>\n",
       "            </tr>\n",
       "            <tr>\n",
       "                                <td id=\"T_f761b5b2_880b_11ea_a840_a0a4c50e5e33row2_col0\" class=\"data row2 col0\" >0.200000</td>\n",
       "                        <td id=\"T_f761b5b2_880b_11ea_a840_a0a4c50e5e33row2_col1\" class=\"data row2 col1\" >0.184925</td>\n",
       "            </tr>\n",
       "            <tr>\n",
       "                                <td id=\"T_f761b5b2_880b_11ea_a840_a0a4c50e5e33row3_col0\" class=\"data row3 col0\" >0.300000</td>\n",
       "                        <td id=\"T_f761b5b2_880b_11ea_a840_a0a4c50e5e33row3_col1\" class=\"data row3 col1\" >0.261021</td>\n",
       "            </tr>\n",
       "            <tr>\n",
       "                                <td id=\"T_f761b5b2_880b_11ea_a840_a0a4c50e5e33row4_col0\" class=\"data row4 col0\" >0.400000</td>\n",
       "                        <td id=\"T_f761b5b2_880b_11ea_a840_a0a4c50e5e33row4_col1\" class=\"data row4 col1\" >0.322750</td>\n",
       "            </tr>\n",
       "            <tr>\n",
       "                                <td id=\"T_f761b5b2_880b_11ea_a840_a0a4c50e5e33row5_col0\" class=\"data row5 col0\" >0.500000</td>\n",
       "                        <td id=\"T_f761b5b2_880b_11ea_a840_a0a4c50e5e33row5_col1\" class=\"data row5 col1\" >0.368708</td>\n",
       "            </tr>\n",
       "            <tr>\n",
       "                                <td id=\"T_f761b5b2_880b_11ea_a840_a0a4c50e5e33row6_col0\" class=\"data row6 col0\" >0.600000</td>\n",
       "                        <td id=\"T_f761b5b2_880b_11ea_a840_a0a4c50e5e33row6_col1\" class=\"data row6 col1\" >0.398501</td>\n",
       "            </tr>\n",
       "            <tr>\n",
       "                                <td id=\"T_f761b5b2_880b_11ea_a840_a0a4c50e5e33row7_col0\" class=\"data row7 col0\" >0.700000</td>\n",
       "                        <td id=\"T_f761b5b2_880b_11ea_a840_a0a4c50e5e33row7_col1\" class=\"data row7 col1\" >0.412670</td>\n",
       "            </tr>\n",
       "            <tr>\n",
       "                                <td id=\"T_f761b5b2_880b_11ea_a840_a0a4c50e5e33row8_col0\" class=\"data row8 col0\" >0.800000</td>\n",
       "                        <td id=\"T_f761b5b2_880b_11ea_a840_a0a4c50e5e33row8_col1\" class=\"data row8 col1\" >0.412520</td>\n",
       "            </tr>\n",
       "            <tr>\n",
       "                                <td id=\"T_f761b5b2_880b_11ea_a840_a0a4c50e5e33row9_col0\" class=\"data row9 col0\" >0.900000</td>\n",
       "                        <td id=\"T_f761b5b2_880b_11ea_a840_a0a4c50e5e33row9_col1\" class=\"data row9 col1\" >0.399900</td>\n",
       "            </tr>\n",
       "            <tr>\n",
       "                                <td id=\"T_f761b5b2_880b_11ea_a840_a0a4c50e5e33row10_col0\" class=\"data row10 col0\" >1.000000</td>\n",
       "                        <td id=\"T_f761b5b2_880b_11ea_a840_a0a4c50e5e33row10_col1\" class=\"data row10 col1\" >0.376964</td>\n",
       "            </tr>\n",
       "    </tbody></table>"
      ],
      "text/plain": [
       "<pandas.io.formats.style.Styler at 0x24ffa8398b0>"
      ]
     },
     "execution_count": 57,
     "metadata": {},
     "output_type": "execute_result"
    }
   ],
   "source": [
    "d = {'$x$': x, '$y_{RK}$': y_rk}\n",
    "table = df(data=d)\n",
    "table.style.hide_index()"
   ]
  },
  {
   "cell_type": "markdown",
   "metadata": {},
   "source": [
    "### 6) Вычислить решение экстраполяционным методом Адамса 5-ого порядка с шагом из метода Рунге-Кутты на промежутке [5h, 1] — y_Ad_ex. Начало таблицы строить методом Рунге-Кутты."
   ]
  },
  {
   "cell_type": "code",
   "execution_count": 58,
   "metadata": {},
   "outputs": [
    {
     "data": {
      "text/html": [
       "<style  type=\"text/css\" >\n",
       "</style><table id=\"T_f7939960_880b_11ea_ba13_a0a4c50e5e33\" ><thead>    <tr>        <th class=\"col_heading level0 col0\" >x_Ad_ex</th>        <th class=\"col_heading level0 col1\" >y_Ad_ex</th>    </tr></thead><tbody>\n",
       "                <tr>\n",
       "                                <td id=\"T_f7939960_880b_11ea_ba13_a0a4c50e5e33row0_col0\" class=\"data row0 col0\" >0.500000</td>\n",
       "                        <td id=\"T_f7939960_880b_11ea_ba13_a0a4c50e5e33row0_col1\" class=\"data row0 col1\" >0.322750</td>\n",
       "            </tr>\n",
       "            <tr>\n",
       "                                <td id=\"T_f7939960_880b_11ea_ba13_a0a4c50e5e33row1_col0\" class=\"data row1 col0\" >0.600000</td>\n",
       "                        <td id=\"T_f7939960_880b_11ea_ba13_a0a4c50e5e33row1_col1\" class=\"data row1 col1\" >0.374094</td>\n",
       "            </tr>\n",
       "            <tr>\n",
       "                                <td id=\"T_f7939960_880b_11ea_ba13_a0a4c50e5e33row2_col0\" class=\"data row2 col0\" >0.700000</td>\n",
       "                        <td id=\"T_f7939960_880b_11ea_ba13_a0a4c50e5e33row2_col1\" class=\"data row2 col1\" >0.390883</td>\n",
       "            </tr>\n",
       "            <tr>\n",
       "                                <td id=\"T_f7939960_880b_11ea_ba13_a0a4c50e5e33row3_col0\" class=\"data row3 col0\" >0.800000</td>\n",
       "                        <td id=\"T_f7939960_880b_11ea_ba13_a0a4c50e5e33row3_col1\" class=\"data row3 col1\" >0.432453</td>\n",
       "            </tr>\n",
       "            <tr>\n",
       "                                <td id=\"T_f7939960_880b_11ea_ba13_a0a4c50e5e33row4_col0\" class=\"data row4 col0\" >0.900000</td>\n",
       "                        <td id=\"T_f7939960_880b_11ea_ba13_a0a4c50e5e33row4_col1\" class=\"data row4 col1\" >0.412669</td>\n",
       "            </tr>\n",
       "            <tr>\n",
       "                                <td id=\"T_f7939960_880b_11ea_ba13_a0a4c50e5e33row5_col0\" class=\"data row5 col0\" >1.000000</td>\n",
       "                        <td id=\"T_f7939960_880b_11ea_ba13_a0a4c50e5e33row5_col1\" class=\"data row5 col1\" >0.440252</td>\n",
       "            </tr>\n",
       "    </tbody></table>"
      ],
      "text/plain": [
       "<pandas.io.formats.style.Styler at 0x24fd7d0ea00>"
      ]
     },
     "execution_count": 58,
     "metadata": {},
     "output_type": "execute_result"
    }
   ],
   "source": [
    "x_Ad_ex = np.arange(5*h, 1. + h / 2., h)\n",
    "y_Ad_ex = x_Ad_ex * 0\n",
    "\n",
    "x_adams = np.arange(0, 4 * h + h / 2., h)\n",
    "y_adams = x_adams * 0\n",
    "for m in range(len(x_adams) - 1):\n",
    "    k1 = h * F(x[m], y_adams[m])\n",
    "    k2 = h * F(x[m] + h/2, y_adams[m] + k1/2)\n",
    "    k3 = h * F(x[m] + h/2, y_adams[m] + k2/2)\n",
    "    k4 = h * F(x[m] + h, y_adams[m] + k3)\n",
    "    y_adams[m+1] = y_adams[m] + (k1 + 2 * k2 + 2 * k3 + k4) / 6;\n",
    "    \n",
    "q = []\n",
    "for m in range(len(x_adams)):\n",
    "    q.append(h * F(y_adams[m], x_adams[m]))\n",
    "    \n",
    "y_Ad_ex[0] = y_adams[4]\n",
    "for m in range(len(x_Ad_ex)-1):\n",
    "        y_Ad_ex[m + 1] = (y_Ad_ex[m] + (1901 * q[m + 4] - 2774 * q[m + 3] + 2616 * q[m + 2] - 1274 * q[m + 1] + 251 * q[m]) / 720.)\n",
    "        q.append(h * F(y_Ad_ex[m + 1], x_Ad_ex[m + 1]))\n",
    "        \n",
    "d = {'x_Ad_ex': x_Ad_ex, 'y_Ad_ex': y_Ad_ex}\n",
    "table = df(data=d)\n",
    "table.style.hide_index()"
   ]
  },
  {
   "cell_type": "markdown",
   "metadata": {},
   "source": [
    "### 7) Вычислить решение интерполяционным методом Адамса 5-ого порядка с шагом h на промежутке [5h, 1] --- y_Ad_in"
   ]
  },
  {
   "cell_type": "code",
   "execution_count": 59,
   "metadata": {},
   "outputs": [
    {
     "data": {
      "text/html": [
       "<style  type=\"text/css\" >\n",
       "</style><table id=\"T_f7c36d64_880b_11ea_b7fe_a0a4c50e5e33\" ><thead>    <tr>        <th class=\"col_heading level0 col0\" >x_Ad_in</th>        <th class=\"col_heading level0 col1\" >y_Ad_in</th>    </tr></thead><tbody>\n",
       "                <tr>\n",
       "                                <td id=\"T_f7c36d64_880b_11ea_b7fe_a0a4c50e5e33row0_col0\" class=\"data row0 col0\" >0.500000</td>\n",
       "                        <td id=\"T_f7c36d64_880b_11ea_b7fe_a0a4c50e5e33row0_col1\" class=\"data row0 col1\" >0.322750</td>\n",
       "            </tr>\n",
       "            <tr>\n",
       "                                <td id=\"T_f7c36d64_880b_11ea_b7fe_a0a4c50e5e33row1_col0\" class=\"data row1 col0\" >0.600000</td>\n",
       "                        <td id=\"T_f7c36d64_880b_11ea_b7fe_a0a4c50e5e33row1_col1\" class=\"data row1 col1\" >0.380737</td>\n",
       "            </tr>\n",
       "            <tr>\n",
       "                                <td id=\"T_f7c36d64_880b_11ea_b7fe_a0a4c50e5e33row2_col0\" class=\"data row2 col0\" >0.700000</td>\n",
       "                        <td id=\"T_f7c36d64_880b_11ea_b7fe_a0a4c50e5e33row2_col1\" class=\"data row2 col1\" >0.438724</td>\n",
       "            </tr>\n",
       "            <tr>\n",
       "                                <td id=\"T_f7c36d64_880b_11ea_b7fe_a0a4c50e5e33row3_col0\" class=\"data row3 col0\" >0.800000</td>\n",
       "                        <td id=\"T_f7c36d64_880b_11ea_b7fe_a0a4c50e5e33row3_col1\" class=\"data row3 col1\" >0.496710</td>\n",
       "            </tr>\n",
       "            <tr>\n",
       "                                <td id=\"T_f7c36d64_880b_11ea_b7fe_a0a4c50e5e33row4_col0\" class=\"data row4 col0\" >0.900000</td>\n",
       "                        <td id=\"T_f7c36d64_880b_11ea_b7fe_a0a4c50e5e33row4_col1\" class=\"data row4 col1\" >0.554697</td>\n",
       "            </tr>\n",
       "            <tr>\n",
       "                                <td id=\"T_f7c36d64_880b_11ea_b7fe_a0a4c50e5e33row5_col0\" class=\"data row5 col0\" >1.000000</td>\n",
       "                        <td id=\"T_f7c36d64_880b_11ea_b7fe_a0a4c50e5e33row5_col1\" class=\"data row5 col1\" >0.612684</td>\n",
       "            </tr>\n",
       "    </tbody></table>"
      ],
      "text/plain": [
       "<pandas.io.formats.style.Styler at 0x24ffa82a520>"
      ]
     },
     "execution_count": 59,
     "metadata": {},
     "output_type": "execute_result"
    }
   ],
   "source": [
    "x_Ad_in = np.arange(5 * h, 1. + h/2., h)\n",
    "y_Ad_in = x_Ad_in * 0\n",
    "\n",
    "q = []\n",
    "for m in range(len(x)):\n",
    "    q.append(h * F(y_rk[i], x[i]))\n",
    "\n",
    "y_Ad_in[0] = y_rk[4]\n",
    "for m in range(len(y_Ad_in) - 1):\n",
    "        y_Ad_in[m + 1] = y_Ad_in[m] + (251 * q[m + 4] + 646 * q[m + 3] - 264 * q[m + 2] + 106 * q[m + 1] - 19 * q[m]) / 720.\n",
    "\n",
    "d = {'x_Ad_in': x_Ad_in, 'y_Ad_in': y_Ad_in}\n",
    "table = df(data=d)\n",
    "table.style.hide_index()"
   ]
  },
  {
   "cell_type": "markdown",
   "metadata": {},
   "source": [
    "### Напечатать таблицу значений y_math и погрешностей"
   ]
  },
  {
   "cell_type": "code",
   "execution_count": 60,
   "metadata": {},
   "outputs": [
    {
     "data": {
      "text/html": [
       "<style  type=\"text/css\" >\n",
       "</style><table id=\"T_f7f3c419_880b_11ea_8c68_a0a4c50e5e33\" ><thead>    <tr>        <th class=\"col_heading level0 col0\" >x</th>        <th class=\"col_heading level0 col1\" >y_math</th>        <th class=\"col_heading level0 col2\" >|y_math - y_rk|</th>        <th class=\"col_heading level0 col3\" >|y_math - y_Ad_ex|</th>        <th class=\"col_heading level0 col4\" >|y_math - y_Ad_in|</th>    </tr></thead><tbody>\n",
       "                <tr>\n",
       "                                <td id=\"T_f7f3c419_880b_11ea_8c68_a0a4c50e5e33row0_col0\" class=\"data row0 col0\" >0.500000</td>\n",
       "                        <td id=\"T_f7f3c419_880b_11ea_8c68_a0a4c50e5e33row0_col1\" class=\"data row0 col1\" >0.377413</td>\n",
       "                        <td id=\"T_f7f3c419_880b_11ea_8c68_a0a4c50e5e33row0_col2\" class=\"data row0 col2\" >0.008705</td>\n",
       "                        <td id=\"T_f7f3c419_880b_11ea_8c68_a0a4c50e5e33row0_col3\" class=\"data row0 col3\" >0.054662</td>\n",
       "                        <td id=\"T_f7f3c419_880b_11ea_8c68_a0a4c50e5e33row0_col4\" class=\"data row0 col4\" >0.054662</td>\n",
       "            </tr>\n",
       "            <tr>\n",
       "                                <td id=\"T_f7f3c419_880b_11ea_8c68_a0a4c50e5e33row1_col0\" class=\"data row1 col0\" >0.600000</td>\n",
       "                        <td id=\"T_f7f3c419_880b_11ea_8c68_a0a4c50e5e33row1_col1\" class=\"data row1 col1\" >0.413918</td>\n",
       "                        <td id=\"T_f7f3c419_880b_11ea_8c68_a0a4c50e5e33row1_col2\" class=\"data row1 col2\" >0.015417</td>\n",
       "                        <td id=\"T_f7f3c419_880b_11ea_8c68_a0a4c50e5e33row1_col3\" class=\"data row1 col3\" >0.039823</td>\n",
       "                        <td id=\"T_f7f3c419_880b_11ea_8c68_a0a4c50e5e33row1_col4\" class=\"data row1 col4\" >0.033181</td>\n",
       "            </tr>\n",
       "            <tr>\n",
       "                                <td id=\"T_f7f3c419_880b_11ea_8c68_a0a4c50e5e33row2_col0\" class=\"data row2 col0\" >0.700000</td>\n",
       "                        <td id=\"T_f7f3c419_880b_11ea_8c68_a0a4c50e5e33row2_col1\" class=\"data row2 col1\" >0.437277</td>\n",
       "                        <td id=\"T_f7f3c419_880b_11ea_8c68_a0a4c50e5e33row2_col2\" class=\"data row2 col2\" >0.024607</td>\n",
       "                        <td id=\"T_f7f3c419_880b_11ea_8c68_a0a4c50e5e33row2_col3\" class=\"data row2 col3\" >0.046394</td>\n",
       "                        <td id=\"T_f7f3c419_880b_11ea_8c68_a0a4c50e5e33row2_col4\" class=\"data row2 col4\" >0.001447</td>\n",
       "            </tr>\n",
       "            <tr>\n",
       "                                <td id=\"T_f7f3c419_880b_11ea_8c68_a0a4c50e5e33row3_col0\" class=\"data row3 col0\" >0.800000</td>\n",
       "                        <td id=\"T_f7f3c419_880b_11ea_8c68_a0a4c50e5e33row3_col1\" class=\"data row3 col1\" >0.448826</td>\n",
       "                        <td id=\"T_f7f3c419_880b_11ea_8c68_a0a4c50e5e33row3_col2\" class=\"data row3 col2\" >0.036307</td>\n",
       "                        <td id=\"T_f7f3c419_880b_11ea_8c68_a0a4c50e5e33row3_col3\" class=\"data row3 col3\" >0.016373</td>\n",
       "                        <td id=\"T_f7f3c419_880b_11ea_8c68_a0a4c50e5e33row3_col4\" class=\"data row3 col4\" >0.047884</td>\n",
       "            </tr>\n",
       "            <tr>\n",
       "                                <td id=\"T_f7f3c419_880b_11ea_8c68_a0a4c50e5e33row4_col0\" class=\"data row4 col0\" >0.900000</td>\n",
       "                        <td id=\"T_f7f3c419_880b_11ea_8c68_a0a4c50e5e33row4_col1\" class=\"data row4 col1\" >0.450282</td>\n",
       "                        <td id=\"T_f7f3c419_880b_11ea_8c68_a0a4c50e5e33row4_col2\" class=\"data row4 col2\" >0.050382</td>\n",
       "                        <td id=\"T_f7f3c419_880b_11ea_8c68_a0a4c50e5e33row4_col3\" class=\"data row4 col3\" >0.037612</td>\n",
       "                        <td id=\"T_f7f3c419_880b_11ea_8c68_a0a4c50e5e33row4_col4\" class=\"data row4 col4\" >0.104416</td>\n",
       "            </tr>\n",
       "            <tr>\n",
       "                                <td id=\"T_f7f3c419_880b_11ea_8c68_a0a4c50e5e33row5_col0\" class=\"data row5 col0\" >1.000000</td>\n",
       "                        <td id=\"T_f7f3c419_880b_11ea_8c68_a0a4c50e5e33row5_col1\" class=\"data row5 col1\" >0.443554</td>\n",
       "                        <td id=\"T_f7f3c419_880b_11ea_8c68_a0a4c50e5e33row5_col2\" class=\"data row5 col2\" >0.066589</td>\n",
       "                        <td id=\"T_f7f3c419_880b_11ea_8c68_a0a4c50e5e33row5_col3\" class=\"data row5 col3\" >0.003302</td>\n",
       "                        <td id=\"T_f7f3c419_880b_11ea_8c68_a0a4c50e5e33row5_col4\" class=\"data row5 col4\" >0.169130</td>\n",
       "            </tr>\n",
       "    </tbody></table>"
      ],
      "text/plain": [
       "<pandas.io.formats.style.Styler at 0x24ffa82a3a0>"
      ]
     },
     "execution_count": 60,
     "metadata": {},
     "output_type": "execute_result"
    }
   ],
   "source": [
    "d = {\n",
    "        'x': x[5:],\n",
    "        'y_math': y_math[5:],\n",
    "        '|y_math - y_rk|': [abs(y_math[i] - y_rk[i]) for i in range(5, len(y_math))],\n",
    "        '|y_math - y_Ad_ex|': [abs(y_math[i+5] - y_Ad_ex[i]) for i in range(len(y_Ad_ex))],\n",
    "        '|y_math - y_Ad_in|': [abs(y_math[i+5] - y_Ad_in[i]) for i in range(len(y_Ad_in))]\n",
    "}\n",
    "table = df(data=d)\n",
    "table.style.hide_index()"
   ]
  }
 ],
 "metadata": {
  "kernelspec": {
   "display_name": "Python 3",
   "language": "python",
   "name": "python3"
  },
  "language_info": {
   "codemirror_mode": {
    "name": "ipython",
    "version": 3
   },
   "file_extension": ".py",
   "mimetype": "text/x-python",
   "name": "python",
   "nbconvert_exporter": "python",
   "pygments_lexer": "ipython3",
   "version": "3.8.2"
  }
 },
 "nbformat": 4,
 "nbformat_minor": 2
}
